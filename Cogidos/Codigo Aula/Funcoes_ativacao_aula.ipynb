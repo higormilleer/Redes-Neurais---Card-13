{
  "metadata": {
    "kernelspec": {
      "name": "python",
      "display_name": "Python (Pyodide)",
      "language": "python"
    },
    "language_info": {
      "codemirror_mode": {
        "name": "python",
        "version": 3
      },
      "file_extension": ".py",
      "mimetype": "text/x-python",
      "name": "python",
      "nbconvert_exporter": "python",
      "pygments_lexer": "ipython3",
      "version": "3.8"
    }
  },
  "nbformat_minor": 5,
  "nbformat": 4,
  "cells": [
    {
      "id": "1fe7e480-584d-4634-a5b0-2feac79f170b",
      "cell_type": "markdown",
      "source": "                                                          Step Function",
      "metadata": {}
    },
    {
      "id": "ce1c6ab4-166b-441e-8b5a-d663d8a70f22",
      "cell_type": "code",
      "source": "import numpy as np",
      "metadata": {
        "trusted": true
      },
      "outputs": [],
      "execution_count": null
    },
    {
      "id": "e8c3feb3-cc29-4193-9cb7-a3c30d713cbf",
      "cell_type": "code",
      "source": "def step_function(soma):\n    if soma>= 1:\n        return 1\n    return 0",
      "metadata": {
        "trusted": true
      },
      "outputs": [],
      "execution_count": null
    },
    {
      "id": "00696ee0-edb5-43fd-ab92-b55bedc91e23",
      "cell_type": "code",
      "source": "step_function(1)",
      "metadata": {
        "trusted": true
      },
      "outputs": [],
      "execution_count": null
    },
    {
      "id": "b11e8c8b-e8a1-45e1-a22b-8e70d1277e95",
      "cell_type": "markdown",
      "source": "                                                            Sigmoid",
      "metadata": {}
    },
    {
      "id": "51d7bebe-f71c-46c9-b229-9fd89e84dfbc",
      "cell_type": "code",
      "source": "def formula_sigmoid(soma):\n    return 1/(1+np.exp(-soma))\n    ",
      "metadata": {
        "trusted": true
      },
      "outputs": [],
      "execution_count": null
    },
    {
      "id": "29f39665-c1a6-4dcd-b634-96d06bf68413",
      "cell_type": "code",
      "source": "formula_sigmoid(1)",
      "metadata": {
        "trusted": true
      },
      "outputs": [],
      "execution_count": null
    },
    {
      "id": "b9bc332e-3f90-4c13-ad2d-44f86412058b",
      "cell_type": "code",
      "source": "formula_sigmoid(-6)",
      "metadata": {
        "trusted": true
      },
      "outputs": [],
      "execution_count": null
    },
    {
      "id": "fb404048-1210-4ccf-8359-aa262517a508",
      "cell_type": "markdown",
      "source": "                                                      Tangente Hiperbolica",
      "metadata": {}
    },
    {
      "id": "ad0836b8-6ade-4e91-8948-fd61ccac4ff5",
      "cell_type": "code",
      "source": "def tangente_hyperbolic(soma):\n    return(np.exp(soma)-np.exp(-soma)) / (np.exp(soma)+ np.exp(-soma))",
      "metadata": {
        "trusted": true
      },
      "outputs": [],
      "execution_count": null
    },
    {
      "id": "317b8f19-672d-4d13-8461-f8da65d45e72",
      "cell_type": "code",
      "source": "tangente_hyperbolic(-6)",
      "metadata": {
        "trusted": true
      },
      "outputs": [],
      "execution_count": null
    },
    {
      "id": "7ae14cff-8d06-4547-852b-e6ecf988d98f",
      "cell_type": "code",
      "source": "tangente_hyperbolic(1)",
      "metadata": {
        "trusted": true
      },
      "outputs": [],
      "execution_count": null
    },
    {
      "id": "a39a88d9-152f-4b1f-bc76-981bba79d7f3",
      "cell_type": "markdown",
      "source": "                                                             Relu",
      "metadata": {}
    },
    {
      "id": "6e48d76e-9c1e-4625-988c-32a547e836ca",
      "cell_type": "code",
      "source": "def funcao_relu(soma):\n    if soma >= 0:\n        return soma\n    return 0",
      "metadata": {
        "trusted": true
      },
      "outputs": [],
      "execution_count": null
    },
    {
      "id": "6348e96a-b90a-457e-b3e9-de282f343bab",
      "cell_type": "code",
      "source": "funcao_relu(0)",
      "metadata": {
        "trusted": true
      },
      "outputs": [],
      "execution_count": null
    },
    {
      "id": "926b2e92-d86a-41c4-b20f-1afb55b003d5",
      "cell_type": "code",
      "source": "funcao_relu(1)",
      "metadata": {
        "trusted": true
      },
      "outputs": [],
      "execution_count": null
    },
    {
      "id": "3109beb7-39e5-457d-9335-99a29bcbede7",
      "cell_type": "markdown",
      "source": "                                                            SoftMax",
      "metadata": {}
    },
    {
      "id": "cf67ded7-4e71-4fcf-844d-962a926098dc",
      "cell_type": "code",
      "source": "def funcao_softmax(x):\n    ex = np.exp(x)\n    return ex/ex.sum()",
      "metadata": {
        "trusted": true
      },
      "outputs": [],
      "execution_count": null
    },
    {
      "id": "f4add8e6-ee6e-427f-a334-454b6e23ded5",
      "cell_type": "code",
      "source": "funcao_softmax([8.0,2.5,1.3])",
      "metadata": {
        "trusted": true
      },
      "outputs": [],
      "execution_count": null
    },
    {
      "id": "9ba92434-a6dd-4ba8-94fc-72eb2fb0c0bd",
      "cell_type": "markdown",
      "source": "                                                             Linear       ",
      "metadata": {}
    },
    {
      "id": "ed2fc629-594e-403b-ba55-171b91abb495",
      "cell_type": "code",
      "source": "def funcao_linear(soma):\n    return soma",
      "metadata": {
        "trusted": true
      },
      "outputs": [],
      "execution_count": null
    },
    {
      "id": "9e096df5-d68e-46b9-b479-e8415983db8f",
      "cell_type": "code",
      "source": "funcao_linear(10)",
      "metadata": {
        "trusted": true
      },
      "outputs": [],
      "execution_count": null
    },
    {
      "id": "87a647d3-bbe5-46ab-9406-3815a6700cc7",
      "cell_type": "code",
      "source": "funcao_linear(3)",
      "metadata": {
        "trusted": true
      },
      "outputs": [],
      "execution_count": null
    }
  ]
}