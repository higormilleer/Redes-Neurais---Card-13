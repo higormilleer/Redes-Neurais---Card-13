{
 "cells": [
  {
   "cell_type": "code",
   "execution_count": 139,
   "id": "5e64a00c-69d3-40d6-8a20-481e5ce0fddd",
   "metadata": {},
   "outputs": [],
   "source": [
    "import pandas as pd\n",
    "import tensorflow as tf\n",
    "import sklearn\n",
    "import scikeras"
   ]
  },
  {
   "cell_type": "code",
   "execution_count": 141,
   "id": "10fb02bd-7e03-4f19-aaa7-611422d5aef8",
   "metadata": {},
   "outputs": [],
   "source": [
    "from tensorflow.keras.models import Sequential\n",
    "from scikeras.wrappers import KerasRegressor\n",
    "from tensorflow.keras.layers import Dense\n",
    "from sklearn.preprocessing import OneHotEncoder\n",
    "from sklearn.compose import ColumnTransformer\n",
    "import time\n",
    "from sklearn import metrics\n",
    "from sklearn.model_selection import cross_val_score\n",
    "from tensorflow.keras import backend as k"
   ]
  },
  {
   "cell_type": "code",
   "execution_count": 143,
   "id": "c797c5f9-89b9-4397-810a-e85db03bd6cb",
   "metadata": {},
   "outputs": [
    {
     "data": {
      "text/plain": [
       "1736184864.520939"
      ]
     },
     "execution_count": 143,
     "metadata": {},
     "output_type": "execute_result"
    }
   ],
   "source": [
    "inicio = time.time()\n",
    "inicio"
   ]
  },
  {
   "cell_type": "code",
   "execution_count": 145,
   "id": "a6052125-1bfd-44a0-862a-a592d82856ba",
   "metadata": {},
   "outputs": [],
   "source": [
    "base = pd.read_csv(\"autos.csv\", encoding=\"latin1\")\n"
   ]
  },
  {
   "cell_type": "code",
   "execution_count": 146,
   "id": "8efee398-0de1-4e37-8ecf-ed2dfbe3b176",
   "metadata": {},
   "outputs": [],
   "source": [
    "#dropando as informacoes que nao sao necessarias \n",
    "base = base.drop(\"dateCrawled\", axis=1)\n",
    "base = base.drop(\"dateCreated\", axis=1)\n",
    "base = base.drop(\"nrOfPictures\", axis=1)\n",
    "base = base.drop(\"postalCode\", axis=1)\n",
    "base = base.drop(\"lastSeen\", axis=1)"
   ]
  },
  {
   "cell_type": "code",
   "execution_count": 147,
   "id": "92f8136a-bde5-4b54-b782-a242d320774a",
   "metadata": {},
   "outputs": [],
   "source": [
    "base = base.drop(\"name\", axis=1)\n",
    "base = base.drop(\"offerType\", axis=1)\n",
    "base = base.drop(\"seller\", axis=1)"
   ]
  },
  {
   "cell_type": "code",
   "execution_count": 149,
   "id": "5533caca-32fc-4b4f-965d-9ce8554c2c9c",
   "metadata": {},
   "outputs": [
    {
     "data": {
      "text/html": [
       "<div>\n",
       "<style scoped>\n",
       "    .dataframe tbody tr th:only-of-type {\n",
       "        vertical-align: middle;\n",
       "    }\n",
       "\n",
       "    .dataframe tbody tr th {\n",
       "        vertical-align: top;\n",
       "    }\n",
       "\n",
       "    .dataframe thead th {\n",
       "        text-align: right;\n",
       "    }\n",
       "</style>\n",
       "<table border=\"1\" class=\"dataframe\">\n",
       "  <thead>\n",
       "    <tr style=\"text-align: right;\">\n",
       "      <th></th>\n",
       "      <th>price</th>\n",
       "      <th>abtest</th>\n",
       "      <th>vehicleType</th>\n",
       "      <th>yearOfRegistration</th>\n",
       "      <th>gearbox</th>\n",
       "      <th>powerPS</th>\n",
       "      <th>model</th>\n",
       "      <th>kilometer</th>\n",
       "      <th>monthOfRegistration</th>\n",
       "      <th>fuelType</th>\n",
       "      <th>brand</th>\n",
       "      <th>notRepairedDamage</th>\n",
       "    </tr>\n",
       "  </thead>\n",
       "  <tbody>\n",
       "    <tr>\n",
       "      <th>0</th>\n",
       "      <td>480</td>\n",
       "      <td>test</td>\n",
       "      <td>NaN</td>\n",
       "      <td>1993</td>\n",
       "      <td>manuell</td>\n",
       "      <td>0</td>\n",
       "      <td>golf</td>\n",
       "      <td>150000</td>\n",
       "      <td>0</td>\n",
       "      <td>benzin</td>\n",
       "      <td>volkswagen</td>\n",
       "      <td>NaN</td>\n",
       "    </tr>\n",
       "    <tr>\n",
       "      <th>1</th>\n",
       "      <td>18300</td>\n",
       "      <td>test</td>\n",
       "      <td>coupe</td>\n",
       "      <td>2011</td>\n",
       "      <td>manuell</td>\n",
       "      <td>190</td>\n",
       "      <td>NaN</td>\n",
       "      <td>125000</td>\n",
       "      <td>5</td>\n",
       "      <td>diesel</td>\n",
       "      <td>audi</td>\n",
       "      <td>ja</td>\n",
       "    </tr>\n",
       "    <tr>\n",
       "      <th>2</th>\n",
       "      <td>9800</td>\n",
       "      <td>test</td>\n",
       "      <td>suv</td>\n",
       "      <td>2004</td>\n",
       "      <td>automatik</td>\n",
       "      <td>163</td>\n",
       "      <td>grand</td>\n",
       "      <td>125000</td>\n",
       "      <td>8</td>\n",
       "      <td>diesel</td>\n",
       "      <td>jeep</td>\n",
       "      <td>NaN</td>\n",
       "    </tr>\n",
       "    <tr>\n",
       "      <th>3</th>\n",
       "      <td>1500</td>\n",
       "      <td>test</td>\n",
       "      <td>kleinwagen</td>\n",
       "      <td>2001</td>\n",
       "      <td>manuell</td>\n",
       "      <td>75</td>\n",
       "      <td>golf</td>\n",
       "      <td>150000</td>\n",
       "      <td>6</td>\n",
       "      <td>benzin</td>\n",
       "      <td>volkswagen</td>\n",
       "      <td>nein</td>\n",
       "    </tr>\n",
       "    <tr>\n",
       "      <th>4</th>\n",
       "      <td>3600</td>\n",
       "      <td>test</td>\n",
       "      <td>kleinwagen</td>\n",
       "      <td>2008</td>\n",
       "      <td>manuell</td>\n",
       "      <td>69</td>\n",
       "      <td>fabia</td>\n",
       "      <td>90000</td>\n",
       "      <td>7</td>\n",
       "      <td>diesel</td>\n",
       "      <td>skoda</td>\n",
       "      <td>nein</td>\n",
       "    </tr>\n",
       "    <tr>\n",
       "      <th>...</th>\n",
       "      <td>...</td>\n",
       "      <td>...</td>\n",
       "      <td>...</td>\n",
       "      <td>...</td>\n",
       "      <td>...</td>\n",
       "      <td>...</td>\n",
       "      <td>...</td>\n",
       "      <td>...</td>\n",
       "      <td>...</td>\n",
       "      <td>...</td>\n",
       "      <td>...</td>\n",
       "      <td>...</td>\n",
       "    </tr>\n",
       "    <tr>\n",
       "      <th>371523</th>\n",
       "      <td>2200</td>\n",
       "      <td>test</td>\n",
       "      <td>NaN</td>\n",
       "      <td>2005</td>\n",
       "      <td>NaN</td>\n",
       "      <td>0</td>\n",
       "      <td>NaN</td>\n",
       "      <td>20000</td>\n",
       "      <td>1</td>\n",
       "      <td>NaN</td>\n",
       "      <td>sonstige_autos</td>\n",
       "      <td>NaN</td>\n",
       "    </tr>\n",
       "    <tr>\n",
       "      <th>371524</th>\n",
       "      <td>1199</td>\n",
       "      <td>test</td>\n",
       "      <td>cabrio</td>\n",
       "      <td>2000</td>\n",
       "      <td>automatik</td>\n",
       "      <td>101</td>\n",
       "      <td>fortwo</td>\n",
       "      <td>125000</td>\n",
       "      <td>3</td>\n",
       "      <td>benzin</td>\n",
       "      <td>smart</td>\n",
       "      <td>nein</td>\n",
       "    </tr>\n",
       "    <tr>\n",
       "      <th>371525</th>\n",
       "      <td>9200</td>\n",
       "      <td>test</td>\n",
       "      <td>bus</td>\n",
       "      <td>1996</td>\n",
       "      <td>manuell</td>\n",
       "      <td>102</td>\n",
       "      <td>transporter</td>\n",
       "      <td>150000</td>\n",
       "      <td>3</td>\n",
       "      <td>diesel</td>\n",
       "      <td>volkswagen</td>\n",
       "      <td>nein</td>\n",
       "    </tr>\n",
       "    <tr>\n",
       "      <th>371526</th>\n",
       "      <td>3400</td>\n",
       "      <td>test</td>\n",
       "      <td>kombi</td>\n",
       "      <td>2002</td>\n",
       "      <td>manuell</td>\n",
       "      <td>100</td>\n",
       "      <td>golf</td>\n",
       "      <td>150000</td>\n",
       "      <td>6</td>\n",
       "      <td>diesel</td>\n",
       "      <td>volkswagen</td>\n",
       "      <td>NaN</td>\n",
       "    </tr>\n",
       "    <tr>\n",
       "      <th>371527</th>\n",
       "      <td>28990</td>\n",
       "      <td>control</td>\n",
       "      <td>limousine</td>\n",
       "      <td>2013</td>\n",
       "      <td>manuell</td>\n",
       "      <td>320</td>\n",
       "      <td>m_reihe</td>\n",
       "      <td>50000</td>\n",
       "      <td>8</td>\n",
       "      <td>benzin</td>\n",
       "      <td>bmw</td>\n",
       "      <td>nein</td>\n",
       "    </tr>\n",
       "  </tbody>\n",
       "</table>\n",
       "<p>359295 rows × 12 columns</p>\n",
       "</div>"
      ],
      "text/plain": [
       "        price   abtest vehicleType  yearOfRegistration    gearbox  powerPS  \\\n",
       "0         480     test         NaN                1993    manuell        0   \n",
       "1       18300     test       coupe                2011    manuell      190   \n",
       "2        9800     test         suv                2004  automatik      163   \n",
       "3        1500     test  kleinwagen                2001    manuell       75   \n",
       "4        3600     test  kleinwagen                2008    manuell       69   \n",
       "...       ...      ...         ...                 ...        ...      ...   \n",
       "371523   2200     test         NaN                2005        NaN        0   \n",
       "371524   1199     test      cabrio                2000  automatik      101   \n",
       "371525   9200     test         bus                1996    manuell      102   \n",
       "371526   3400     test       kombi                2002    manuell      100   \n",
       "371527  28990  control   limousine                2013    manuell      320   \n",
       "\n",
       "              model  kilometer  monthOfRegistration fuelType           brand  \\\n",
       "0              golf     150000                    0   benzin      volkswagen   \n",
       "1               NaN     125000                    5   diesel            audi   \n",
       "2             grand     125000                    8   diesel            jeep   \n",
       "3              golf     150000                    6   benzin      volkswagen   \n",
       "4             fabia      90000                    7   diesel           skoda   \n",
       "...             ...        ...                  ...      ...             ...   \n",
       "371523          NaN      20000                    1      NaN  sonstige_autos   \n",
       "371524       fortwo     125000                    3   benzin           smart   \n",
       "371525  transporter     150000                    3   diesel      volkswagen   \n",
       "371526         golf     150000                    6   diesel      volkswagen   \n",
       "371527      m_reihe      50000                    8   benzin             bmw   \n",
       "\n",
       "       notRepairedDamage  \n",
       "0                    NaN  \n",
       "1                     ja  \n",
       "2                    NaN  \n",
       "3                   nein  \n",
       "4                   nein  \n",
       "...                  ...  \n",
       "371523               NaN  \n",
       "371524              nein  \n",
       "371525              nein  \n",
       "371526               NaN  \n",
       "371527              nein  \n",
       "\n",
       "[359295 rows x 12 columns]"
      ]
     },
     "execution_count": 149,
     "metadata": {},
     "output_type": "execute_result"
    }
   ],
   "source": [
    "base = base[base.price>10]\n",
    "base.loc[base.price<=350000] #preco do veiculo menor ou gial a 350000 euros(nao faz sentido, tem valores invalidos)"
   ]
  },
  {
   "cell_type": "code",
   "execution_count": 153,
   "id": "9c143899-ceaf-4318-bffb-76982b72ceef",
   "metadata": {},
   "outputs": [],
   "source": [
    "valores = {\n",
    "    'vehicleType': 'limousine',\n",
    "    'gearbox': 'manuell',\n",
    "    'model': 'golf',\n",
    "    'fuelType': 'benzin',\n",
    "    'notRepairedDamage': 'nein'\n",
    "}"
   ]
  },
  {
   "cell_type": "code",
   "execution_count": 171,
   "id": "1fb5d269-69d8-466f-aca3-089aa37274a0",
   "metadata": {},
   "outputs": [],
   "source": [
    "    X = base.iloc[:,1:12].values\n",
    "    y = base.iloc[:,0].values\n"
   ]
  },
  {
   "cell_type": "code",
   "execution_count": 175,
   "id": "c9a03ce2-feac-4120-8eb3-3e9af7224f58",
   "metadata": {},
   "outputs": [
    {
     "data": {
      "text/plain": [
       "(array([['test', nan, 1993, ..., 'benzin', 'volkswagen', nan],\n",
       "        ['test', 'coupe', 2011, ..., 'diesel', 'audi', 'ja'],\n",
       "        ['test', 'suv', 2004, ..., 'diesel', 'jeep', nan],\n",
       "        ...,\n",
       "        ['test', 'bus', 1996, ..., 'diesel', 'volkswagen', 'nein'],\n",
       "        ['test', 'kombi', 2002, ..., 'diesel', 'volkswagen', nan],\n",
       "        ['control', 'limousine', 2013, ..., 'benzin', 'bmw', 'nein']],\n",
       "       dtype=object),\n",
       " array([  480, 18300,  9800, ...,  9200,  3400, 28990]))"
      ]
     },
     "execution_count": 175,
     "metadata": {},
     "output_type": "execute_result"
    }
   ],
   "source": [
    "X,y"
   ]
  },
  {
   "cell_type": "code",
   "execution_count": 177,
   "id": "ab90ffde-c062-46e5-8544-3034450f8210",
   "metadata": {},
   "outputs": [],
   "source": [
    "onehotencoder = ColumnTransformer(\n",
    "    transformers=[\n",
    "        (\"OneHot\", OneHotEncoder(), [0, 1, 3, 5, 8, 9, 10])  # Índices das colunas para OneHotEncoder\n",
    "    ],\n",
    "    remainder=\"passthrough\"  # Mantém as colunas restantes inalteradas\n",
    ")"
   ]
  },
  {
   "cell_type": "code",
   "execution_count": 182,
   "id": "ee797a66-ae1c-418d-b046-2dfcc8ff48a6",
   "metadata": {},
   "outputs": [
    {
     "data": {
      "text/plain": [
       "array([[1.00e+00, 0.00e+00, 0.00e+00, ..., 0.00e+00, 1.50e+05, 0.00e+00],\n",
       "       [1.00e+00, 0.00e+00, 0.00e+00, ..., 1.90e+02, 1.25e+05, 5.00e+00],\n",
       "       [1.00e+00, 0.00e+00, 0.00e+00, ..., 1.63e+02, 1.25e+05, 8.00e+00],\n",
       "       ...,\n",
       "       [1.00e+00, 0.00e+00, 0.00e+00, ..., 1.02e+02, 1.50e+05, 3.00e+00],\n",
       "       [1.00e+00, 0.00e+00, 0.00e+00, ..., 1.00e+02, 1.50e+05, 6.00e+00],\n",
       "       [0.00e+00, 1.00e+00, 1.00e+00, ..., 3.20e+02, 5.00e+04, 8.00e+00]])"
      ]
     },
     "execution_count": 182,
     "metadata": {},
     "output_type": "execute_result"
    }
   ],
   "source": [
    "X = onehotencoder.fit_transform(x)  \n",
    "X"
   ]
  },
  {
   "cell_type": "code",
   "execution_count": 185,
   "id": "42a26f07-0d38-415f-bd96-c7f348093c91",
   "metadata": {},
   "outputs": [],
   "source": [
    "def criar_rede():\n",
    "    k.clear_session()\n",
    "    regressor = Sequential([\n",
    "    tf.keras.layers.InputLayer(shape = (316,)),\n",
    "    tf.keras.layers.Dense(units = 158,activation = \"relu\"),#camada oculta\n",
    "    tf.keras.layers.Dense(units = 158,activation = \"relu\"),#camada oculta\n",
    "    tf.keras.layers.Dense(units = 1,activation = \"linear\")#camada de saida\n",
    "    ])\n",
    "    regressor.compile(loss=\"mean_absolute_error\", optimizer = \"Adam\",metrics = [\"mean_absolute_error\"])\n",
    "    return regressor"
   ]
  },
  {
   "cell_type": "code",
   "execution_count": 186,
   "id": "e2434306-3fd6-497f-9307-bc55461b4ef7",
   "metadata": {},
   "outputs": [],
   "source": [
    "regressor = KerasRegressor(model = criar_rede,epochs=100,batch_size = 300)"
   ]
  },
  {
   "cell_type": "code",
   "execution_count": 187,
   "id": "a9afe7ca-1935-43da-9a37-c2ef2be803a5",
   "metadata": {},
   "outputs": [],
   "source": [
    "from sklearn.linear_model import LinearRegression\n",
    "\n",
    "# Defina o regressor\n",
    "regressor = LinearRegression()\n"
   ]
  },
  {
   "cell_type": "code",
   "execution_count": 188,
   "id": "5e8fe967-c700-4c70-8665-a4d33435d232",
   "metadata": {},
   "outputs": [],
   "source": [
    "resultados = cross_val_score(estimator=regressor, X=X, y=y, cv=5, scoring=\"neg_mean_absolute_error\")"
   ]
  },
  {
   "cell_type": "code",
   "execution_count": 189,
   "id": "04de794e-e201-4a64-adf8-ffe53da6e699",
   "metadata": {},
   "outputs": [],
   "source": [
    "fim = time.time()"
   ]
  },
  {
   "cell_type": "code",
   "execution_count": 191,
   "id": "9b269298-48fd-40c4-9eec-4da3e2519c09",
   "metadata": {},
   "outputs": [
    {
     "data": {
      "text/plain": [
       "0.06322017663054996"
      ]
     },
     "execution_count": 191,
     "metadata": {},
     "output_type": "execute_result"
    }
   ],
   "source": [
    "(fim-inicio)/3600"
   ]
  },
  {
   "cell_type": "code",
   "execution_count": 193,
   "id": "a7084a18-0687-46f0-ad6e-7217e6737a76",
   "metadata": {},
   "outputs": [
    {
     "data": {
      "text/plain": [
       "53687.68535638042"
      ]
     },
     "execution_count": 193,
     "metadata": {},
     "output_type": "execute_result"
    }
   ],
   "source": [
    "abs(resultados.mean())"
   ]
  },
  {
   "cell_type": "code",
   "execution_count": 195,
   "id": "c4ac661d-1357-42eb-b26c-8f8ab8b27772",
   "metadata": {},
   "outputs": [
    {
     "data": {
      "text/plain": [
       "array([53044.50585516, 49929.17675604, 56824.86000279, 56603.85499001,\n",
       "       52036.02917792])"
      ]
     },
     "execution_count": 195,
     "metadata": {},
     "output_type": "execute_result"
    }
   ],
   "source": [
    "abs(resultados)"
   ]
  },
  {
   "cell_type": "code",
   "execution_count": 197,
   "id": "d7b00450-2c17-4ef8-a6dd-7d47c21349b3",
   "metadata": {},
   "outputs": [
    {
     "data": {
      "text/plain": [
       "2668.8553724639537"
      ]
     },
     "execution_count": 197,
     "metadata": {},
     "output_type": "execute_result"
    }
   ],
   "source": [
    "resultados.std()"
   ]
  },
  {
   "cell_type": "code",
   "execution_count": null,
   "id": "61a238fe-da07-4403-aab4-9ea1e20ea0af",
   "metadata": {},
   "outputs": [],
   "source": []
  }
 ],
 "metadata": {
  "kernelspec": {
   "display_name": "Python [conda env:base] *",
   "language": "python",
   "name": "conda-base-py"
  },
  "language_info": {
   "codemirror_mode": {
    "name": "ipython",
    "version": 3
   },
   "file_extension": ".py",
   "mimetype": "text/x-python",
   "name": "python",
   "nbconvert_exporter": "python",
   "pygments_lexer": "ipython3",
   "version": "3.12.7"
  }
 },
 "nbformat": 4,
 "nbformat_minor": 5
}
